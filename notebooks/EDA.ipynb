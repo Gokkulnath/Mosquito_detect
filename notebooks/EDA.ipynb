{
 "cells": [
  {
   "cell_type": "code",
   "execution_count": 1,
   "id": "fe8f8848-1c0e-4008-a1fb-d2c520cc77c8",
   "metadata": {},
   "outputs": [],
   "source": [
    "import pandas as pd\n",
    "import os \n",
    "import sys\n",
    "\n"
   ]
  },
  {
   "cell_type": "code",
   "execution_count": 3,
   "id": "894041b1-5ec0-49c6-8490-832f68e788d6",
   "metadata": {},
   "outputs": [],
   "source": [
    "csv_base_dir = '/home/gokkulnath/Mosquito/'\n",
    "train_df = pd.read_csv(f\"{csv_base_dir}/train.csv\")\n",
    "test_df = pd.read_csv(f\"{csv_base_dir}/test_phase1_v2.csv\")\n",
    "\n",
    "idx2lab = { 0: \"culex\",\n",
    " 1: \"albopictus\",\n",
    " 2: \"culiseta\",\n",
    " 3: \"japonicus/koreicus\",\n",
    " 4: \"anopheles\",\n",
    " 5: \"aegypti\"}\n",
    "lab2idx = {v:k for k,v in idx2lab.items()}\n",
    "\n",
    "train_df['fname']=train_df['img_fName'].apply(lambda x: x.rstrip(\".jpeg\"))\n",
    "train_df['class_code']=train_df['class_label'].apply(lambda x : lab2idx[x])\n",
    "\n"
   ]
  },
  {
   "cell_type": "code",
   "execution_count": 12,
   "id": "7eddd524-d824-4fcc-8e45-2e7eaca0c40c",
   "metadata": {},
   "outputs": [
    {
     "data": {
      "text/html": [
       "<div>\n",
       "<style scoped>\n",
       "    .dataframe tbody tr th:only-of-type {\n",
       "        vertical-align: middle;\n",
       "    }\n",
       "\n",
       "    .dataframe tbody tr th {\n",
       "        vertical-align: top;\n",
       "    }\n",
       "\n",
       "    .dataframe thead th {\n",
       "        text-align: right;\n",
       "    }\n",
       "</style>\n",
       "<table border=\"1\" class=\"dataframe\">\n",
       "  <thead>\n",
       "    <tr style=\"text-align: right;\">\n",
       "      <th></th>\n",
       "      <th>img_fName</th>\n",
       "      <th>img_w</th>\n",
       "      <th>img_h</th>\n",
       "      <th>bbx_xtl</th>\n",
       "      <th>bbx_ytl</th>\n",
       "      <th>bbx_xbr</th>\n",
       "      <th>bbx_ybr</th>\n",
       "      <th>class_label</th>\n",
       "      <th>fname</th>\n",
       "      <th>class_code</th>\n",
       "    </tr>\n",
       "  </thead>\n",
       "  <tbody>\n",
       "    <tr>\n",
       "      <th>0</th>\n",
       "      <td>92715872-3287-4bff-aa61-7047973e5c02.jpeg</td>\n",
       "      <td>2448</td>\n",
       "      <td>3264</td>\n",
       "      <td>1301</td>\n",
       "      <td>1546</td>\n",
       "      <td>1641</td>\n",
       "      <td>2096</td>\n",
       "      <td>albopictus</td>\n",
       "      <td>92715872-3287-4bff-aa61-7047973e5c02</td>\n",
       "      <td>1</td>\n",
       "    </tr>\n",
       "    <tr>\n",
       "      <th>1</th>\n",
       "      <td>b0f7cc74-2272-4756-a387-38bcaf6965c8.jpeg</td>\n",
       "      <td>3024</td>\n",
       "      <td>4032</td>\n",
       "      <td>900</td>\n",
       "      <td>1897</td>\n",
       "      <td>1950</td>\n",
       "      <td>2990</td>\n",
       "      <td>albopictus</td>\n",
       "      <td>b0f7cc74-2272-4756-a387-38bcaf6965c8</td>\n",
       "      <td>1</td>\n",
       "    </tr>\n",
       "    <tr>\n",
       "      <th>2</th>\n",
       "      <td>82df4b68-0f45-4afe-9215-48488bf3720e.jpeg</td>\n",
       "      <td>768</td>\n",
       "      <td>1024</td>\n",
       "      <td>220</td>\n",
       "      <td>58</td>\n",
       "      <td>659</td>\n",
       "      <td>808</td>\n",
       "      <td>albopictus</td>\n",
       "      <td>82df4b68-0f45-4afe-9215-48488bf3720</td>\n",
       "      <td>1</td>\n",
       "    </tr>\n",
       "    <tr>\n",
       "      <th>3</th>\n",
       "      <td>331ad30a-7564-4478-b863-7bc760adf5a1.jpeg</td>\n",
       "      <td>3456</td>\n",
       "      <td>4608</td>\n",
       "      <td>1169</td>\n",
       "      <td>2364</td>\n",
       "      <td>1586</td>\n",
       "      <td>2826</td>\n",
       "      <td>albopictus</td>\n",
       "      <td>331ad30a-7564-4478-b863-7bc760adf5a1</td>\n",
       "      <td>1</td>\n",
       "    </tr>\n",
       "    <tr>\n",
       "      <th>4</th>\n",
       "      <td>1a46dbfb-104e-466b-88d7-98958d7b1fe9.jpeg</td>\n",
       "      <td>1024</td>\n",
       "      <td>1365</td>\n",
       "      <td>129</td>\n",
       "      <td>231</td>\n",
       "      <td>697</td>\n",
       "      <td>1007</td>\n",
       "      <td>culex</td>\n",
       "      <td>1a46dbfb-104e-466b-88d7-98958d7b1fe9</td>\n",
       "      <td>0</td>\n",
       "    </tr>\n",
       "    <tr>\n",
       "      <th>...</th>\n",
       "      <td>...</td>\n",
       "      <td>...</td>\n",
       "      <td>...</td>\n",
       "      <td>...</td>\n",
       "      <td>...</td>\n",
       "      <td>...</td>\n",
       "      <td>...</td>\n",
       "      <td>...</td>\n",
       "      <td>...</td>\n",
       "      <td>...</td>\n",
       "    </tr>\n",
       "    <tr>\n",
       "      <th>8020</th>\n",
       "      <td>ca1468e3-1337-48b3-b378-135758317454.jpeg</td>\n",
       "      <td>4160</td>\n",
       "      <td>2080</td>\n",
       "      <td>2055</td>\n",
       "      <td>704</td>\n",
       "      <td>2494</td>\n",
       "      <td>998</td>\n",
       "      <td>albopictus</td>\n",
       "      <td>ca1468e3-1337-48b3-b378-135758317454</td>\n",
       "      <td>1</td>\n",
       "    </tr>\n",
       "    <tr>\n",
       "      <th>8021</th>\n",
       "      <td>c2e77768-61ba-4e27-907d-fe3198e8f5ce.jpeg</td>\n",
       "      <td>3024</td>\n",
       "      <td>4032</td>\n",
       "      <td>1073</td>\n",
       "      <td>875</td>\n",
       "      <td>1830</td>\n",
       "      <td>1503</td>\n",
       "      <td>culiseta</td>\n",
       "      <td>c2e77768-61ba-4e27-907d-fe3198e8f5c</td>\n",
       "      <td>2</td>\n",
       "    </tr>\n",
       "    <tr>\n",
       "      <th>8022</th>\n",
       "      <td>d7521d94-92f7-40a1-9cd5-74a0b67ca98b.jpeg</td>\n",
       "      <td>1024</td>\n",
       "      <td>1365</td>\n",
       "      <td>341</td>\n",
       "      <td>485</td>\n",
       "      <td>761</td>\n",
       "      <td>1123</td>\n",
       "      <td>albopictus</td>\n",
       "      <td>d7521d94-92f7-40a1-9cd5-74a0b67ca98b</td>\n",
       "      <td>1</td>\n",
       "    </tr>\n",
       "    <tr>\n",
       "      <th>8023</th>\n",
       "      <td>03098cc0-ee82-4fa0-b045-579951b7855c.jpeg</td>\n",
       "      <td>2128</td>\n",
       "      <td>4608</td>\n",
       "      <td>869</td>\n",
       "      <td>1235</td>\n",
       "      <td>2128</td>\n",
       "      <td>2631</td>\n",
       "      <td>culex</td>\n",
       "      <td>03098cc0-ee82-4fa0-b045-579951b7855c</td>\n",
       "      <td>0</td>\n",
       "    </tr>\n",
       "    <tr>\n",
       "      <th>8024</th>\n",
       "      <td>5232677a-0f87-44ec-bc42-405444cf5d2c.jpeg</td>\n",
       "      <td>1024</td>\n",
       "      <td>1365</td>\n",
       "      <td>352</td>\n",
       "      <td>704</td>\n",
       "      <td>663</td>\n",
       "      <td>943</td>\n",
       "      <td>culex</td>\n",
       "      <td>5232677a-0f87-44ec-bc42-405444cf5d2c</td>\n",
       "      <td>0</td>\n",
       "    </tr>\n",
       "  </tbody>\n",
       "</table>\n",
       "<p>8025 rows × 10 columns</p>\n",
       "</div>"
      ],
      "text/plain": [
       "                                      img_fName  img_w  img_h  bbx_xtl  \\\n",
       "0     92715872-3287-4bff-aa61-7047973e5c02.jpeg   2448   3264     1301   \n",
       "1     b0f7cc74-2272-4756-a387-38bcaf6965c8.jpeg   3024   4032      900   \n",
       "2     82df4b68-0f45-4afe-9215-48488bf3720e.jpeg    768   1024      220   \n",
       "3     331ad30a-7564-4478-b863-7bc760adf5a1.jpeg   3456   4608     1169   \n",
       "4     1a46dbfb-104e-466b-88d7-98958d7b1fe9.jpeg   1024   1365      129   \n",
       "...                                         ...    ...    ...      ...   \n",
       "8020  ca1468e3-1337-48b3-b378-135758317454.jpeg   4160   2080     2055   \n",
       "8021  c2e77768-61ba-4e27-907d-fe3198e8f5ce.jpeg   3024   4032     1073   \n",
       "8022  d7521d94-92f7-40a1-9cd5-74a0b67ca98b.jpeg   1024   1365      341   \n",
       "8023  03098cc0-ee82-4fa0-b045-579951b7855c.jpeg   2128   4608      869   \n",
       "8024  5232677a-0f87-44ec-bc42-405444cf5d2c.jpeg   1024   1365      352   \n",
       "\n",
       "      bbx_ytl  bbx_xbr  bbx_ybr class_label  \\\n",
       "0        1546     1641     2096  albopictus   \n",
       "1        1897     1950     2990  albopictus   \n",
       "2          58      659      808  albopictus   \n",
       "3        2364     1586     2826  albopictus   \n",
       "4         231      697     1007       culex   \n",
       "...       ...      ...      ...         ...   \n",
       "8020      704     2494      998  albopictus   \n",
       "8021      875     1830     1503    culiseta   \n",
       "8022      485      761     1123  albopictus   \n",
       "8023     1235     2128     2631       culex   \n",
       "8024      704      663      943       culex   \n",
       "\n",
       "                                     fname  class_code  \n",
       "0     92715872-3287-4bff-aa61-7047973e5c02           1  \n",
       "1     b0f7cc74-2272-4756-a387-38bcaf6965c8           1  \n",
       "2      82df4b68-0f45-4afe-9215-48488bf3720           1  \n",
       "3     331ad30a-7564-4478-b863-7bc760adf5a1           1  \n",
       "4     1a46dbfb-104e-466b-88d7-98958d7b1fe9           0  \n",
       "...                                    ...         ...  \n",
       "8020  ca1468e3-1337-48b3-b378-135758317454           1  \n",
       "8021   c2e77768-61ba-4e27-907d-fe3198e8f5c           2  \n",
       "8022  d7521d94-92f7-40a1-9cd5-74a0b67ca98b           1  \n",
       "8023  03098cc0-ee82-4fa0-b045-579951b7855c           0  \n",
       "8024  5232677a-0f87-44ec-bc42-405444cf5d2c           0  \n",
       "\n",
       "[8025 rows x 10 columns]"
      ]
     },
     "execution_count": 12,
     "metadata": {},
     "output_type": "execute_result"
    }
   ],
   "source": [
    "train_df"
   ]
  },
  {
   "cell_type": "code",
   "execution_count": 10,
   "id": "13b3ba15-848a-4797-9670-5fe183f5952e",
   "metadata": {
    "scrolled": true
   },
   "outputs": [
    {
     "data": {
      "text/plain": [
       "<Axes: >"
      ]
     },
     "execution_count": 10,
     "metadata": {},
     "output_type": "execute_result"
    },
    {
     "data": {
      "image/png": "[encoded data removed]",
      "text/plain": [
       "<Figure size 640x480 with 1 Axes>"
      ]
     },
     "metadata": {},
     "output_type": "display_data"
    }
   ],
   "source": [
    "train_df.img_h.hist(bins=100)"
   ]
  },
  {
   "cell_type": "code",
   "execution_count": 11,
   "id": "549e935e-bc90-48bc-a54e-d0b3147bd2ff",
   "metadata": {},
   "outputs": [
    {
     "data": {
      "text/plain": [
       "<Axes: >"
      ]
     },
     "execution_count": 11,
     "metadata": {},
     "output_type": "execute_result"
    },
    {
     "data": {
      "image/png": "[encoded data removed]",
      "text/plain": [
       "<Figure size 640x480 with 1 Axes>"
      ]
     },
     "metadata": {},
     "output_type": "display_data"
    }
   ],
   "source": [
    "train_df.img_w.hist(bins=100)"
   ]
  },
  {
   "cell_type": "markdown",
   "id": "8317b86e-824b-4eca-959c-4f6e10ec3bd8",
   "metadata": {},
   "source": [
    "# Validation Split"
   ]
  },
  {
   "cell_type": "code",
   "execution_count": null,
   "id": "0a618fec-bfd5-454b-b57f-d3e2d64fb10b",
   "metadata": {},
   "outputs": [],
   "source": [
    "# Train validation Split \n",
    "from sklearn.model_selection import train_test_split\n",
    "train_df, val_df = train_test_split(train_df, test_size=0.25, random_state=42, shuffle=True, stratify=train_df.class_code)"
   ]
  },
  {
   "cell_type": "markdown",
   "id": "ee419b7b-2e32-45dc-be9c-7ba290371bcf",
   "metadata": {},
   "source": [
    "# Prepare Label"
   ]
  },
  {
   "cell_type": "code",
   "execution_count": null,
   "id": "e7d9f928-b671-4c5a-b792-2d6f5627f166",
   "metadata": {},
   "outputs": [],
   "source": [
    "# https://medium.com/analytics-vidhya/basics-of-bounding-boxes-94e583b5e16c\n",
    "# (x1, y1): Corresponds to the x and y coordinate of the top left corner of the rectangle.\n",
    "# (x2, y2): Corresponds to the x and y coordinate of the bottom right corner of the rectangle.\n",
    "# (xc, yc): Corresponds to the x and y coordinate of the center of the bounding box.\n",
    "# Width: Represents the width of the bounding box.\n",
    "# Height: Represents the height of the bounding box.\n",
    "\n",
    "# xc = ( a.bbx_xtl + a.bbx_xbr ) / 2\n",
    "# yc = ( a.bbx_ytl + a.bbx_ybr ) / 2\n",
    "# width = ( a.bbx_xbr — a.bbx_xtl)\n",
    "# height = (a.bbx_ybr — a.bbx_ytl)\n",
    "\n",
    "from PIL import Image\n",
    "# Image.open(f\"{base_path}/images/train_images/{a.img_fName}\")\n",
    "import cv2\n",
    "import os \n",
    "def perpare_label(a,debug=False):\n",
    "    with open(os.path.join(base_label_path,f'{a.fname}.txt'),'w') as f:\n",
    "        xc = (( a.bbx_xtl + a.bbx_xbr ) / 2) / a.img_w\n",
    "        yc = (( a.bbx_ytl + a.bbx_ybr ) / 2) / a.img_h\n",
    "        width = ( a.bbx_xbr - a.bbx_xtl)/a.img_w\n",
    "        height = (a.bbx_ybr - a.bbx_ytl)/a.img_h\n",
    "        row = [a.class_code, xc, yc, width,height]\n",
    "        label_str = \" \".join([str(r) for r in row])\n",
    "        # print(label_str)\n",
    "        f.writelines(label_str)\n",
    "    if debug:\n",
    "        img = cv2.imread(f\"{base_path}/images/train_images/{a.img_fName}\")\n",
    "        start_point = (int(a.bbx_xtl), int(a.bbx_ytl))\n",
    "        end_point = (int(a.bbx_xbr), int(a.bbx_ybr))\n",
    "        cv2.rectangle(img, start_point, end_point, color=(0,255,0), thickness=2)   \n",
    "        cv2.imwrite(\"example_with_bounding_boxes.jpg\", img)"
   ]
  }
 ],
 "metadata": {
  "kernelspec": {
   "display_name": "Python (mos)",
   "language": "python",
   "name": "env"
  },
  "language_info": {
   "codemirror_mode": {
    "name": "ipython",
    "version": 3
   },
   "file_extension": ".py",
   "mimetype": "text/x-python",
   "name": "python",
   "nbconvert_exporter": "python",
   "pygments_lexer": "ipython3",
   "version": "3.10.12"
  }
 },
 "nbformat": 4,
 "nbformat_minor": 5
}
